{
 "cells": [
  {
   "cell_type": "markdown",
   "id": "116a8a67",
   "metadata": {},
   "source": [
    "* 1. Write a Python program to print &quot;Hello Python&quot;?"
   ]
  },
  {
   "cell_type": "code",
   "execution_count": 1,
   "id": "987e82a0",
   "metadata": {},
   "outputs": [
    {
     "name": "stdout",
     "output_type": "stream",
     "text": [
      "Hello Python\n"
     ]
    }
   ],
   "source": [
    "print(\"Hello Python\")"
   ]
  },
  {
   "cell_type": "markdown",
   "id": "421f3347",
   "metadata": {},
   "source": [
    "* 2. Write a Python program to do arithmetical operations addition and division.?"
   ]
  },
  {
   "cell_type": "code",
   "execution_count": 5,
   "id": "92812dd6",
   "metadata": {},
   "outputs": [
    {
     "name": "stdout",
     "output_type": "stream",
     "text": [
      "Enter the first number: 5\n",
      "Enter the Second number: 6\n",
      "Select the type of arithmation operation to be performed(add/divide): add\n",
      "The sum of first and second number is: 11\n"
     ]
    }
   ],
   "source": [
    "num1 = int(input('Enter the first number: '))\n",
    "num2 = int(input('Enter the Second number: '))\n",
    "\n",
    "op = input(\"Select the type of arithmation operation to be performed(add/divide): \")\n",
    "\n",
    "if op == 'add':\n",
    "    print('The sum of first and second number is:', num1+num2)\n",
    "elif op == 'divide':\n",
    "    print('The division of first and second number is:', num1/num2)\n",
    "else:\n",
    "    print('Incorrect operation selected')"
   ]
  },
  {
   "cell_type": "markdown",
   "id": "6206746c",
   "metadata": {},
   "source": [
    "* 3. Write a Python program to find the area of a triangle?"
   ]
  },
  {
   "cell_type": "code",
   "execution_count": 6,
   "id": "5819d09c",
   "metadata": {},
   "outputs": [
    {
     "name": "stdout",
     "output_type": "stream",
     "text": [
      "Enter the height of triangle: 5\n",
      "Enter the base of triangle: 3\n",
      "Area of triangle is  7.5\n"
     ]
    }
   ],
   "source": [
    "num1 = int(input('Enter the height of triangle: '))\n",
    "num2 = int(input('Enter the base of triangle: '))\n",
    "\n",
    "print('Area of triangle is ', (num1*num2)/2)"
   ]
  },
  {
   "cell_type": "markdown",
   "id": "b6693bf9",
   "metadata": {},
   "source": [
    "* 4. Write a Python program to swap two variables?"
   ]
  },
  {
   "cell_type": "code",
   "execution_count": 7,
   "id": "943675e1",
   "metadata": {},
   "outputs": [
    {
     "name": "stdout",
     "output_type": "stream",
     "text": [
      "20\n",
      "10\n"
     ]
    }
   ],
   "source": [
    "a = 10\n",
    "b = 20\n",
    "\n",
    "a,b = b,a\n",
    "print(a)\n",
    "print(b)"
   ]
  },
  {
   "cell_type": "markdown",
   "id": "3a3b7cf5",
   "metadata": {},
   "source": [
    "* 5. Write a Python program to generate a random number?"
   ]
  },
  {
   "cell_type": "code",
   "execution_count": 10,
   "id": "426b3c04",
   "metadata": {},
   "outputs": [
    {
     "name": "stdout",
     "output_type": "stream",
     "text": [
      "29\n"
     ]
    }
   ],
   "source": [
    "import random\n",
    "n = random.randint(0,50)\n",
    "print(n)"
   ]
  }
 ],
 "metadata": {
  "kernelspec": {
   "display_name": "Python 3 (ipykernel)",
   "language": "python",
   "name": "python3"
  },
  "language_info": {
   "codemirror_mode": {
    "name": "ipython",
    "version": 3
   },
   "file_extension": ".py",
   "mimetype": "text/x-python",
   "name": "python",
   "nbconvert_exporter": "python",
   "pygments_lexer": "ipython3",
   "version": "3.10.5"
  }
 },
 "nbformat": 4,
 "nbformat_minor": 5
}
