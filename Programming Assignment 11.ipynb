{
 "cells": [
  {
   "cell_type": "code",
   "execution_count": 3,
   "id": "145cb9a2",
   "metadata": {},
   "outputs": [
    {
     "name": "stdout",
     "output_type": "stream",
     "text": [
      "['high-level,', 'general-purpose', 'programming', 'language.', 'philosophy', 'emphasizes', 'readability', 'significant', 'indentation.', 'dynamically', 'garbage-collected.', 'supports', 'multiple', 'programming', 'paradigms,', 'including', 'structured,', 'object-oriented', 'functional', 'programming.']\n"
     ]
    }
   ],
   "source": [
    "# 1. Write a Python program to find words which are greater than given length k?\n",
    "\n",
    "k = 6\n",
    "new_list = []\n",
    "string = 'Python is a high-level, general-purpose programming language. Its design philosophy emphasizes code readability with the use of significant indentation. Python is dynamically typed and garbage-collected. It supports multiple programming paradigms, including structured, object-oriented and functional programming.'\n",
    "\n",
    "words = string.split()\n",
    "\n",
    "for i in words:\n",
    "    if len(i) > k:\n",
    "        new_list.append(i)\n",
    "        \n",
    "print(new_list)"
   ]
  },
  {
   "cell_type": "code",
   "execution_count": 4,
   "id": "2f2fb656",
   "metadata": {},
   "outputs": [
    {
     "name": "stdout",
     "output_type": "stream",
     "text": [
      "Pthon is a high-level, general-purpose programming language. Its design philosophy emphasizes code readability with the use of significant indentation. Python is dynamically typed and garbage-collected. It supports multiple programming paradigms, including structured, object-oriented and functional programming.\n"
     ]
    }
   ],
   "source": [
    "# 2. Write a Python program for removing i-th character from a string?\n",
    "\n",
    "i = 1\n",
    "\n",
    "string = 'Python is a high-level, general-purpose programming language. Its design philosophy emphasizes code readability with the use of significant indentation. Python is dynamically typed and garbage-collected. It supports multiple programming paradigms, including structured, object-oriented and functional programming.'\n",
    "\n",
    "new_string = string[0:i]+string[i+1:]\n",
    "\n",
    "print(new_string)"
   ]
  },
  {
   "cell_type": "code",
   "execution_count": 11,
   "id": "b3bb452f",
   "metadata": {},
   "outputs": [
    {
     "name": "stdout",
     "output_type": "stream",
     "text": [
      "Python is a high-level, general-purpose programming language. Its design philosophy emphasizes code readability with the use of significant indentation. Python is dynamically typed and garbage-collected. It supports multiple programming paradigms, including structured, object-oriented and functional programming.\n"
     ]
    }
   ],
   "source": [
    "# 3. Write a Python program to split and join a string?\n",
    "\n",
    "string = 'Python is a high-level, general-purpose programming language. Its design philosophy emphasizes code readability with the use of significant indentation. Python is dynamically typed and garbage-collected. It supports multiple programming paradigms, including structured, object-oriented and functional programming.'\n",
    "l = len(string)/2\n",
    "\n",
    "string1 = string.split()\n",
    "new_string = \"\"\n",
    "\n",
    "for i in string1:\n",
    "    new_string = new_string + \" \" + i\n",
    "\n",
    "print(new_string.lstrip())"
   ]
  },
  {
   "cell_type": "code",
   "execution_count": 22,
   "id": "abb4f1fd",
   "metadata": {},
   "outputs": [
    {
     "name": "stdout",
     "output_type": "stream",
     "text": [
      "Binary\n"
     ]
    }
   ],
   "source": [
    "# 4. Write a Python to check if a given string is binary string or not?\n",
    "\n",
    "string = True\n",
    "binary = [0,1, True, False]\n",
    "\n",
    "\n",
    "\n",
    "if string in binary:\n",
    "    print('Binary')\n",
    "else:\n",
    "    print(\"Not Binary\")\n",
    "    \n"
   ]
  },
  {
   "cell_type": "code",
   "execution_count": 25,
   "id": "221bd3e0",
   "metadata": {},
   "outputs": [
    {
     "name": "stdout",
     "output_type": "stream",
     "text": [
      "['Python', 'Java']\n"
     ]
    }
   ],
   "source": [
    "# 5. Write a Python program to find uncommon words from two Strings?\n",
    "\n",
    "string1 = \"Python programming language\"\n",
    "string2 = \"Java programming language\"\n",
    "\n",
    "s1 = string1.split()\n",
    "s2 = string2.split()\n",
    "\n",
    "common_words = []\n",
    "\n",
    "for i in s1:\n",
    "    if i not in s2:\n",
    "        common_words.append(i)\n",
    "\n",
    "for j in s2:\n",
    "    if j not in s1:\n",
    "        common_words.append(j)\n",
    "        \n",
    "print(common_words)"
   ]
  },
  {
   "cell_type": "code",
   "execution_count": 30,
   "id": "40a2eb38",
   "metadata": {},
   "outputs": [
    {
     "name": "stdout",
     "output_type": "stream",
     "text": [
      "['P', 'y', 't', 'h', 'o', 'n', ' ', 'p', 'r', 'g', 'a', 'm', 'i', 'l', 'u', 'e']\n"
     ]
    }
   ],
   "source": [
    "# 6. Write a Python to find all duplicate characters in string?\n",
    "\n",
    "string1 = \"Python programming language\"\n",
    "\n",
    "duplicate_char = []\n",
    "\n",
    "for i in string1:\n",
    "    if i not in duplicate_char:\n",
    "        duplicate_char.append(i)\n",
    "        \n",
    "        \n",
    "print(duplicate_char)"
   ]
  },
  {
   "cell_type": "code",
   "execution_count": 32,
   "id": "4893a414",
   "metadata": {},
   "outputs": [
    {
     "name": "stdout",
     "output_type": "stream",
     "text": [
      "*\n",
      "#\n",
      "!\n"
     ]
    }
   ],
   "source": [
    "# 7. Write a Python Program to check if a string contains any special character?\n",
    "\n",
    "special_char = ['!', '@', '#', '$', '%', '^', '&', '*']\n",
    "\n",
    "\n",
    "string = \"Pyth*n progr#mming !anguage\"\n",
    "\n",
    "for i in string:\n",
    "    if i in special_char:\n",
    "        print(i)"
   ]
  },
  {
   "cell_type": "code",
   "execution_count": null,
   "id": "80f5358e",
   "metadata": {},
   "outputs": [],
   "source": []
  }
 ],
 "metadata": {
  "kernelspec": {
   "display_name": "Python 3 (ipykernel)",
   "language": "python",
   "name": "python3"
  },
  "language_info": {
   "codemirror_mode": {
    "name": "ipython",
    "version": 3
   },
   "file_extension": ".py",
   "mimetype": "text/x-python",
   "name": "python",
   "nbconvert_exporter": "python",
   "pygments_lexer": "ipython3",
   "version": "3.10.8"
  }
 },
 "nbformat": 4,
 "nbformat_minor": 5
}
