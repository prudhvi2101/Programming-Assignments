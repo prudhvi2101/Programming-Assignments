{
 "cells": [
  {
   "cell_type": "code",
   "execution_count": 1,
   "id": "e6d3511d",
   "metadata": {},
   "outputs": [
    {
     "name": "stdout",
     "output_type": "stream",
     "text": [
      "93\n"
     ]
    }
   ],
   "source": [
    "# 1. Write a Python program to find sum of elements in list?\n",
    "\n",
    "list = [6,12,3,8,17,23,19,1,4]\n",
    "\n",
    "sum = 0\n",
    "\n",
    "for i in list:\n",
    "    sum = sum + i\n",
    "\n",
    "print(sum)"
   ]
  },
  {
   "cell_type": "code",
   "execution_count": 3,
   "id": "d179a21c",
   "metadata": {},
   "outputs": [
    {
     "name": "stdout",
     "output_type": "stream",
     "text": [
      "51349248\n"
     ]
    }
   ],
   "source": [
    "# 2. Write a Python program to Multiply all numbers in the list?\n",
    "\n",
    "list = [6,12,3,8,17,23,19,1,4]\n",
    "\n",
    "\n",
    "total = 1\n",
    "\n",
    "for i in list:\n",
    "    total = total * i\n",
    "\n",
    "print(total)"
   ]
  },
  {
   "cell_type": "code",
   "execution_count": 7,
   "id": "9148e778",
   "metadata": {},
   "outputs": [
    {
     "name": "stdout",
     "output_type": "stream",
     "text": [
      "1\n"
     ]
    }
   ],
   "source": [
    "# 3. Write a Python program to find smallest number in a list?\n",
    "\n",
    "list = [6,12,3,8,17,23,19,1,4]\n",
    "\n",
    "list.sort()\n",
    "\n",
    "print(list[0])"
   ]
  },
  {
   "cell_type": "code",
   "execution_count": 9,
   "id": "7eaf34d8",
   "metadata": {},
   "outputs": [
    {
     "name": "stdout",
     "output_type": "stream",
     "text": [
      "23\n"
     ]
    }
   ],
   "source": [
    "# 4. Write a Python program to find largest number in a list?\n",
    "\n",
    "list = [6,12,3,8,17,23,19,1,4]\n",
    "\n",
    "list.sort()\n",
    "\n",
    "print(list[-1])"
   ]
  },
  {
   "cell_type": "code",
   "execution_count": 10,
   "id": "39a2339f",
   "metadata": {},
   "outputs": [
    {
     "name": "stdout",
     "output_type": "stream",
     "text": [
      "19\n"
     ]
    }
   ],
   "source": [
    "# 5. Write a Python program to find second largest number in a list?\n",
    "\n",
    "list = [6,12,3,8,17,23,19,1,4]\n",
    "\n",
    "list.sort()\n",
    "\n",
    "print(list[-2])"
   ]
  },
  {
   "cell_type": "code",
   "execution_count": 11,
   "id": "eaedf515",
   "metadata": {},
   "outputs": [
    {
     "name": "stdout",
     "output_type": "stream",
     "text": [
      "8\n"
     ]
    }
   ],
   "source": [
    "# 6. Write a Python program to find N largest elements from a list?\n",
    "\n",
    "N = 5\n",
    "\n",
    "list = [6,12,3,8,17,23,19,1,4]\n",
    "\n",
    "list.sort()\n",
    "\n",
    "print(list[-N])"
   ]
  },
  {
   "cell_type": "code",
   "execution_count": 12,
   "id": "c07495f3",
   "metadata": {},
   "outputs": [
    {
     "name": "stdout",
     "output_type": "stream",
     "text": [
      "[6, 12, 8, 4]\n"
     ]
    }
   ],
   "source": [
    "# 7. Write a Python program to print even numbers in a list?\n",
    "\n",
    "list = [6,12,3,8,17,23,19,1,4]\n",
    "\n",
    "even_list = []\n",
    "\n",
    "for i in list:\n",
    "    if i % 2 == 0: \n",
    "        \n",
    "        even_list.append(i)\n",
    "        \n",
    "print(even_list)\n",
    "        "
   ]
  },
  {
   "cell_type": "code",
   "execution_count": 13,
   "id": "f9b803e9",
   "metadata": {},
   "outputs": [
    {
     "name": "stdout",
     "output_type": "stream",
     "text": [
      "[3, 17, 23, 19, 1]\n"
     ]
    }
   ],
   "source": [
    "# 8. Write a Python program to print odd numbers in a List?\n",
    "\n",
    "list = [6,12,3,8,17,23,19,1,4]\n",
    "\n",
    "odd_list = []\n",
    "\n",
    "for i in list:\n",
    "    if i % 2 != 0:\n",
    "        odd_list.append(i)\n",
    "        \n",
    "print(odd_list)"
   ]
  },
  {
   "cell_type": "code",
   "execution_count": 4,
   "id": "762f528a",
   "metadata": {},
   "outputs": [
    {
     "name": "stdout",
     "output_type": "stream",
     "text": [
      "[6, 12, 3, 8, 17, 23, [1, 2, 3], 19, 1, 4]\n"
     ]
    }
   ],
   "source": [
    "# 9. Write a Python program to Remove empty List from List?\n",
    "\n",
    "l = [6,12,3,8,[],17,23, [1,2,3],19,1,4]\n",
    "\n",
    "for i in range(len(l)-1):\n",
    "    if type(l[i]) == list:\n",
    "        if len(l[i]) == 0:\n",
    "            l.pop(i)\n",
    "            \n",
    "print(l)"
   ]
  },
  {
   "cell_type": "code",
   "execution_count": 6,
   "id": "9e697399",
   "metadata": {},
   "outputs": [
    {
     "name": "stdout",
     "output_type": "stream",
     "text": [
      "[6, 12, 3, 8, 17, 23, 19, 1, 4]\n"
     ]
    }
   ],
   "source": [
    "# 10. Write a Python program to Cloning or Copying a list?\n",
    "\n",
    "list = [6,12,3,8,17,23,19,1,4]\n",
    "\n",
    "new_list = list[:]\n",
    "print(new_list)"
   ]
  },
  {
   "cell_type": "code",
   "execution_count": 9,
   "id": "ede438f1",
   "metadata": {},
   "outputs": [
    {
     "name": "stdout",
     "output_type": "stream",
     "text": [
      "6\n"
     ]
    }
   ],
   "source": [
    "# 11. Write a Python program to Count occurrences of an element in a list?\n",
    "\n",
    "list = [6,12,3,8,17,23,19,1,4,6,17,8,1,8,8,8,8]\n",
    "\n",
    "element = 8\n",
    "count = 0\n",
    "for i in list:\n",
    "    if i == element:\n",
    "        count = count + 1\n",
    "        \n",
    "print(count)\n",
    "    "
   ]
  },
  {
   "cell_type": "code",
   "execution_count": null,
   "id": "4be7eef3",
   "metadata": {},
   "outputs": [],
   "source": []
  }
 ],
 "metadata": {
  "kernelspec": {
   "display_name": "Python 3 (ipykernel)",
   "language": "python",
   "name": "python3"
  },
  "language_info": {
   "codemirror_mode": {
    "name": "ipython",
    "version": 3
   },
   "file_extension": ".py",
   "mimetype": "text/x-python",
   "name": "python",
   "nbconvert_exporter": "python",
   "pygments_lexer": "ipython3",
   "version": "3.10.8"
  }
 },
 "nbformat": 4,
 "nbformat_minor": 5
}
