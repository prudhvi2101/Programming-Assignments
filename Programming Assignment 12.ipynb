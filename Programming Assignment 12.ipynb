{
 "cells": [
  {
   "cell_type": "code",
   "execution_count": 1,
   "id": "94d3b0a1",
   "metadata": {},
   "outputs": [
    {
     "name": "stdout",
     "output_type": "stream",
     "text": [
      "Unique values: [1, 2, 3, 4, 5, 6]\n"
     ]
    }
   ],
   "source": [
    "# 1. Write a Python program to Extract Unique values dictionary values?\n",
    "\n",
    "my_dict = {'a': [1, 2, 3], 'b': [2, 3, 4], 'c': [3, 4, 5], 'd': [4, 5, 6]}\n",
    "unique_values = []\n",
    "\n",
    "for value in my_dict.values():\n",
    "    for item in value:\n",
    "        if item not in unique_values:\n",
    "            unique_values.append(item)\n",
    "\n",
    "print(\"Unique values:\", unique_values)"
   ]
  },
  {
   "cell_type": "code",
   "execution_count": 2,
   "id": "8004a808",
   "metadata": {},
   "outputs": [
    {
     "name": "stdout",
     "output_type": "stream",
     "text": [
      "Sum of all values in dictionary is:  600\n"
     ]
    }
   ],
   "source": [
    "# 2. Write a Python program to find the sum of all items in a dictionary?\n",
    "\n",
    "my_dict = {'a': 100, 'b': 200, 'c': 300}\n",
    "\n",
    "\n",
    "sum_of_values = sum(my_dict.values())\n",
    "\n",
    "print(\"Sum of all values in dictionary is: \", sum_of_values)"
   ]
  },
  {
   "cell_type": "code",
   "execution_count": 6,
   "id": "cc5f7db7",
   "metadata": {},
   "outputs": [
    {
     "name": "stdout",
     "output_type": "stream",
     "text": [
      "{'a': [1, 2, 3], 'b': [2, 3, 4], 'c': [3, 4, 5], 'd': [4, 5, 6], 'e': 100, 'f': 200, 'g': 300}\n"
     ]
    }
   ],
   "source": [
    "# 3. Write a Python program to Merging two Dictionaries?\n",
    "\n",
    "my_dict1 = {'a': [1, 2, 3], 'b': [2, 3, 4], 'c': [3, 4, 5], 'd': [4, 5, 6]}\n",
    "my_dict2 = {'e': 100, 'f': 200, 'g': 300}\n",
    "\n",
    "my_dict1.update(my_dict2)\n",
    "\n",
    "print(my_dict1)"
   ]
  },
  {
   "cell_type": "code",
   "execution_count": 13,
   "id": "14a45c78",
   "metadata": {},
   "outputs": [
    {
     "name": "stdout",
     "output_type": "stream",
     "text": [
      "{'a': 100, 'b': 200, 'c': 300, 'd': 400}\n"
     ]
    }
   ],
   "source": [
    "# 4. Write a Python program to convert key-values list to flat dictionary?\n",
    "\n",
    "key = ['a', 'b', 'c', 'd']\n",
    "\n",
    "value = [100,200,300,400]\n",
    "\n",
    "my_dict = {}\n",
    "\n",
    "for i in range(len(key)):\n",
    "    my_dict[key[i]] = value[i]\n",
    "    \n",
    "print(my_dict)"
   ]
  },
  {
   "cell_type": "code",
   "execution_count": 16,
   "id": "ba165683",
   "metadata": {},
   "outputs": [
    {
     "name": "stdout",
     "output_type": "stream",
     "text": [
      "OrderedDict([('b', 200), ('a', 100), ('c', 300), ('d', 400)])\n"
     ]
    }
   ],
   "source": [
    "# 5. Write a Python program to insertion at the beginning in OrderedDict?\n",
    "\n",
    "from collections import OrderedDict\n",
    "\n",
    "my_dict = {'a': 100, 'b': 200, 'c': 300, 'd': 400}\n",
    "\n",
    "od = OrderedDict()\n",
    "\n",
    "od.update(my_dict)\n",
    "\n",
    "od.move_to_end('b', last=False)\n",
    "\n",
    "print(od)"
   ]
  },
  {
   "cell_type": "code",
   "execution_count": 18,
   "id": "a585b21d",
   "metadata": {},
   "outputs": [
    {
     "name": "stdout",
     "output_type": "stream",
     "text": [
      "The characters in 'llohe' do not occur in the order 'llohe' in the string 'hello world'\n"
     ]
    }
   ],
   "source": [
    "# 6. Write a Python program to check order of character in string using OrderedDict()?\n",
    "\n",
    "from collections import OrderedDict\n",
    "\n",
    "def check_order(string, pattern):\n",
    "    pattern_dict = OrderedDict.fromkeys(pattern, 0)\n",
    "\n",
    "    for char in string:\n",
    "        if char in pattern_dict:\n",
    "            pattern_dict[char] += 1\n",
    "\n",
    "    current_index = 0\n",
    "    for char in pattern_dict.keys():\n",
    "        if pattern_dict[char] > 0 and char != string[current_index]:\n",
    "            return False\n",
    "        current_index += pattern_dict[char]\n",
    "\n",
    "    return True\n",
    "\n",
    "\n",
    "\n",
    "string = \"hello world\"\n",
    "pattern = \"llohe\"\n",
    "\n",
    "if check_order(string, pattern):\n",
    "    print(\"The characters in '{}' occur in the order '{}' in the string '{}'\".format(pattern, pattern, string))\n",
    "else:\n",
    "    print(\"The characters in '{}' do not occur in the order '{}' in the string '{}'\".format(pattern, pattern, string))\n"
   ]
  },
  {
   "cell_type": "code",
   "execution_count": 19,
   "id": "d21da7da",
   "metadata": {},
   "outputs": [
    {
     "name": "stdout",
     "output_type": "stream",
     "text": [
      "Sorted by key:\n",
      "{'apple': 5, 'banana': 3, 'mango': 1, 'orange': 7}\n",
      "Sorted by value:\n",
      "{'mango': 1, 'banana': 3, 'apple': 5, 'orange': 7}\n"
     ]
    }
   ],
   "source": [
    "# 7. Write a Python program to sort Python Dictionaries by Key or Value?\n",
    "\n",
    "\n",
    "my_dict = {'apple': 5, 'banana': 3, 'orange': 7, 'mango': 1}\n",
    "\n",
    "sorted_dict_by_key = dict(sorted(my_dict.items()))\n",
    "\n",
    "print(\"Sorted by key:\")\n",
    "print(sorted_dict_by_key)\n",
    "\n",
    "sorted_dict_by_value = dict(sorted(my_dict.items(), key=lambda item: item[1]))\n",
    "\n",
    "print(\"Sorted by value:\")\n",
    "print(sorted_dict_by_value)\n"
   ]
  },
  {
   "cell_type": "code",
   "execution_count": null,
   "id": "e77b3b85",
   "metadata": {},
   "outputs": [],
   "source": []
  }
 ],
 "metadata": {
  "kernelspec": {
   "display_name": "Python 3 (ipykernel)",
   "language": "python",
   "name": "python3"
  },
  "language_info": {
   "codemirror_mode": {
    "name": "ipython",
    "version": 3
   },
   "file_extension": ".py",
   "mimetype": "text/x-python",
   "name": "python",
   "nbconvert_exporter": "python",
   "pygments_lexer": "ipython3",
   "version": "3.10.8"
  }
 },
 "nbformat": 4,
 "nbformat_minor": 5
}
